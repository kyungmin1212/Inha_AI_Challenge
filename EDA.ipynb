{
 "cells": [
  {
   "cell_type": "markdown",
   "metadata": {},
   "source": [
    "# Train Data"
   ]
  },
  {
   "cell_type": "code",
   "execution_count": null,
   "metadata": {},
   "outputs": [],
   "source": [
    "import os\n",
    "import glob\n",
    "import random\n",
    "import cv2\n",
    "import matplotlib.pyplot as plt\n",
    "\n",
    "# train -> 여러개의 폴더 -> images\n",
    "train_folder = './train'\n",
    "\n",
    "image_list = glob.glob(os.path.join(train_folder , '*/*.*'))\n",
    "print(len(image_list))"
   ]
  },
  {
   "cell_type": "code",
   "execution_count": null,
   "metadata": {},
   "outputs": [],
   "source": [
    "file_list='./ID_List.txt'\n",
    "images=[]\n",
    "labels=[]\n",
    "with open(file_list) as f:\n",
    "    files=f.read().splitlines()\n",
    "    \n",
    "for file in files:\n",
    "    label,image=file.split()\n",
    "    \n",
    "    images.append(image)\n",
    "    labels.append(int(label))"
   ]
  },
  {
   "cell_type": "code",
   "execution_count": null,
   "metadata": {},
   "outputs": [],
   "source": [
    "# 이미지를 로드하고 시각화\n",
    "fig, axes = plt.subplots(2, 5, figsize=(15, 6))\n",
    "\n",
    "for i, idx in enumerate(range(10)):\n",
    "    image_path = images[idx]\n",
    "    label = labels[idx]\n",
    "\n",
    "    # 이미지를 BGR 포맷으로 읽기\n",
    "    image_bgr = cv2.imread(image_path)\n",
    "    # 이미지를 RGB 포맷으로 변환\n",
    "    image_rgb = cv2.cvtColor(image_bgr, cv2.COLOR_BGR2RGB)\n",
    "\n",
    "    ax = axes[i // 5, i % 5]\n",
    "    ax.imshow(image_rgb)\n",
    "    ax.set_title(f\"Label: {label}\")\n",
    "\n",
    "plt.show()"
   ]
  },
  {
   "cell_type": "code",
   "execution_count": null,
   "metadata": {},
   "outputs": [],
   "source": [
    "total_height, total_width = 0, 0\n",
    "num_images = 0\n",
    "\n",
    "for file_name in image_list:\n",
    "    image = cv2.imread(file_name)\n",
    "    height, width, _ = image.shape\n",
    "    total_height += height\n",
    "    total_width += width\n",
    "    num_images += 1\n",
    "\n",
    "avg_height = total_height // num_images\n",
    "avg_width = total_width // num_images\n",
    "\n",
    "print(f\"평균 이미지 크기: ({avg_width}, {avg_height})\")"
   ]
  },
  {
   "cell_type": "code",
   "execution_count": null,
   "metadata": {},
   "outputs": [],
   "source": [
    "image_dir = 'train'  # 이미지 폴더 경로\n",
    "heights, widths = [], []\n",
    "\n",
    "for file_name in image_list:\n",
    "    image = cv2.imread(file_name)\n",
    "    height, width, _ = image.shape\n",
    "    heights.append(height)\n",
    "    widths.append(width)\n",
    "\n",
    "plt.scatter(widths, heights)\n",
    "plt.xlabel('Width')\n",
    "plt.ylabel('Height')\n",
    "plt.show()"
   ]
  },
  {
   "cell_type": "markdown",
   "metadata": {},
   "source": [
    "# Test"
   ]
  },
  {
   "cell_type": "code",
   "execution_count": null,
   "metadata": {},
   "outputs": [],
   "source": [
    "# train -> 여러개의 폴더 -> images\n",
    "test_folder = './test'\n",
    "image_list = glob.glob(os.path.join(test_folder , '*.*'))\n",
    "print(len(image_list))\n",
    "print(image_list[-1])"
   ]
  },
  {
   "cell_type": "code",
   "execution_count": null,
   "metadata": {},
   "outputs": [],
   "source": [
    "image_path = './test'\n",
    "\n",
    "fig,axes = plt.subplots(5,2,figsize=(6,12))\n",
    "\n",
    "for i,idx in enumerate(range(5996,6001)):\n",
    "    left_image = os.path.join(image_path,f'left_face_{idx}.jpg')\n",
    "    right_image = os.path.join(image_path,f'right_face_{idx}.jpg')\n",
    "    \n",
    "    left_image_bgr = cv2.imread(left_image)\n",
    "    left_image_rgb = cv2.cvtColor(left_image_bgr, cv2.COLOR_BGR2RGB)\n",
    "\n",
    "    right_image_bgr = cv2.imread(right_image)\n",
    "    right_image_rgb = cv2.cvtColor(right_image_bgr, cv2.COLOR_BGR2RGB)\n",
    "    \n",
    "    ax = axes[i, 0]\n",
    "    ax.axis('off')\n",
    "    ax.set_title(f\"Label: {idx}_left\")\n",
    "    ax.imshow(left_image_rgb)\n",
    "    \n",
    "    ax = axes[i, 1]\n",
    "    ax.axis('off')\n",
    "    ax.set_title(f\"Label: {idx}_right\")\n",
    "    ax.imshow(right_image_rgb)\n",
    "\n",
    "plt.show()"
   ]
  },
  {
   "cell_type": "code",
   "execution_count": null,
   "metadata": {},
   "outputs": [],
   "source": [
    "total_height, total_width = 0, 0\n",
    "num_images = 0\n",
    "\n",
    "for file_name in image_list:\n",
    "    image = cv2.imread(file_name)\n",
    "    height, width, _ = image.shape\n",
    "    total_height += height\n",
    "    total_width += width\n",
    "    num_images += 1\n",
    "\n",
    "avg_height = total_height // num_images\n",
    "avg_width = total_width // num_images\n",
    "\n",
    "print(f\"평균 이미지 크기: ({avg_width}, {avg_height})\")"
   ]
  },
  {
   "cell_type": "code",
   "execution_count": null,
   "metadata": {},
   "outputs": [],
   "source": [
    "image_dir = 'train'  # 이미지 폴더 경로\n",
    "heights, widths = [], []\n",
    "\n",
    "for file_name in image_list:\n",
    "    image = cv2.imread(file_name)\n",
    "    height, width, _ = image.shape\n",
    "    heights.append(height)\n",
    "    widths.append(width)\n",
    "\n",
    "plt.scatter(widths, heights)\n",
    "plt.xlabel('Width')\n",
    "plt.ylabel('Height')\n",
    "plt.show()"
   ]
  },
  {
   "cell_type": "markdown",
   "metadata": {},
   "source": [
    "# Real Test"
   ]
  },
  {
   "cell_type": "code",
   "execution_count": null,
   "metadata": {},
   "outputs": [],
   "source": [
    "# train -> 여러개의 폴더 -> images\n",
    "test_folder = './real_test'\n",
    "\n",
    "image_list = glob.glob(os.path.join(test_folder , '*/*.*'))\n",
    "print(len(image_list))\n",
    "print(image_list[-1])"
   ]
  },
  {
   "cell_type": "code",
   "execution_count": null,
   "metadata": {},
   "outputs": [],
   "source": [
    "image_path = './real_test'\n",
    "\n",
    "fig,axes = plt.subplots(5,2,figsize=(4,8))\n",
    "\n",
    "for i,idx in enumerate(range(5)):\n",
    "    left_image = os.path.join(image_path,f'pair{idx}','L.jpg')\n",
    "    right_image = os.path.join(image_path,f'pair{idx}','R.jpg')\n",
    "    \n",
    "    left_image_bgr = cv2.imread(left_image)\n",
    "    left_image_rgb = cv2.cvtColor(left_image_bgr, cv2.COLOR_BGR2RGB)\n",
    "\n",
    "    right_image_bgr = cv2.imread(right_image)\n",
    "    right_image_rgb = cv2.cvtColor(right_image_bgr, cv2.COLOR_BGR2RGB)\n",
    "    \n",
    "    ax = axes[i, 0]\n",
    "    ax.set_title(f\"Label: {i}_left\")\n",
    "    ax.axis('off')\n",
    "    ax.imshow(left_image_rgb)\n",
    "    \n",
    "    ax = axes[i, 1]\n",
    "    ax.set_title(f\"Label: {i}_right\")\n",
    "    ax.axis('off')\n",
    "    ax.imshow(right_image_rgb)\n",
    "\n",
    "plt.show()    "
   ]
  },
  {
   "cell_type": "code",
   "execution_count": null,
   "metadata": {},
   "outputs": [],
   "source": [
    "total_height, total_width = 0, 0\n",
    "num_images = 0\n",
    "\n",
    "for file_name in image_list:\n",
    "    image = cv2.imread(file_name)\n",
    "    height, width, _ = image.shape\n",
    "    print(height,width)\n",
    "    total_height += height\n",
    "    total_width += width\n",
    "    num_images += 1\n",
    "\n",
    "avg_height = total_height // num_images\n",
    "avg_width = total_width // num_images\n",
    "\n",
    "print(f\"평균 이미지 크기: ({avg_width}, {avg_height})\")"
   ]
  },
  {
   "cell_type": "code",
   "execution_count": null,
   "metadata": {},
   "outputs": [],
   "source": [
    "image_dir = 'train'  # 이미지 폴더 경로\n",
    "heights, widths = [], []\n",
    "\n",
    "for file_name in image_list:\n",
    "    image = cv2.imread(file_name)\n",
    "    height, width, _ = image.shape\n",
    "    heights.append(height)\n",
    "    widths.append(width)\n",
    "\n",
    "plt.scatter(widths, heights)\n",
    "plt.xlabel('Width')\n",
    "plt.ylabel('Height')\n",
    "plt.show()"
   ]
  },
  {
   "cell_type": "code",
   "execution_count": null,
   "metadata": {},
   "outputs": [],
   "source": []
  }
 ],
 "metadata": {
  "kernelspec": {
   "display_name": "Python 3",
   "language": "python",
   "name": "python3"
  },
  "language_info": {
   "codemirror_mode": {
    "name": "ipython",
    "version": 3
   },
   "file_extension": ".py",
   "mimetype": "text/x-python",
   "name": "python",
   "nbconvert_exporter": "python",
   "pygments_lexer": "ipython3",
   "version": "3.8.10"
  }
 },
 "nbformat": 4,
 "nbformat_minor": 4
}

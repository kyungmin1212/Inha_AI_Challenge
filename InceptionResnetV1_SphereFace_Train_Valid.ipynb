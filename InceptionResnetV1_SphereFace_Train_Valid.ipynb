{
 "cells": [
  {
   "cell_type": "code",
   "execution_count": null,
   "metadata": {},
   "outputs": [],
   "source": [
    "import os\n",
    "import random\n",
    "import glob \n",
    "import cv2\n",
    "import pandas as pd\n",
    "import numpy as np\n",
    "import math\n",
    "from tqdm.notebook import tqdm\n",
    "\n",
    "import torch\n",
    "import torch.nn as nn\n",
    "import torch.nn.functional as F\n",
    "import torch.optim as optim\n",
    "from torch.utils.data import DataLoader, Dataset\n",
    "\n",
    "from timm.scheduler.cosine_lr import CosineLRScheduler\n",
    "\n",
    "import albumentations as A\n",
    "from albumentations.pytorch.transforms import ToTensorV2\n",
    "\n",
    "from facenet_pytorch import InceptionResnetV1"
   ]
  },
  {
   "cell_type": "code",
   "execution_count": null,
   "metadata": {},
   "outputs": [],
   "source": [
    "def set_seed(seed):\n",
    "    random.seed(seed)\n",
    "    np.random.seed(seed)\n",
    "    torch.manual_seed(seed)\n",
    "    torch.cuda.manual_seed(seed)\n",
    "    torch.cuda.manual_seed_all(seed)\n",
    "    os.environ['PYTHONHASHSEED'] = str(seed)\n",
    "\n",
    "    # CuDNN 결정론적 옵션 설정\n",
    "    torch.backends.cudnn.deterministic = True\n",
    "    torch.backends.cudnn.benchmark = False\n",
    "\n",
    "# 원하는 시드 값 설정\n",
    "seed = 42\n",
    "set_seed(seed)\n",
    "device = torch.device(\"cuda\" if torch.cuda.is_available() else \"cpu\") # 디바이스 설정\n",
    "print(device)"
   ]
  },
  {
   "cell_type": "code",
   "execution_count": null,
   "metadata": {},
   "outputs": [],
   "source": [
    "def get_lr(optimizer):\n",
    "    for param_group in optimizer.param_groups:\n",
    "        return param_group['lr']"
   ]
  },
  {
   "cell_type": "code",
   "execution_count": null,
   "metadata": {},
   "outputs": [],
   "source": [
    "people_list = os.listdir('./train')\n",
    "print(len(people_list))\n",
    "print(people_list[:5])"
   ]
  },
  {
   "cell_type": "code",
   "execution_count": null,
   "metadata": {},
   "outputs": [],
   "source": [
    "train_len = int(len(people_list)*0.8)\n",
    "val_len = len(people_list) - train_len\n",
    "\n",
    "print(train_len,val_len)"
   ]
  },
  {
   "cell_type": "code",
   "execution_count": null,
   "metadata": {},
   "outputs": [],
   "source": [
    "train_label_list = [i for i in range(train_len)]\n",
    "valid_label_list = [i for i in range(train_len,train_len+val_len)]\n",
    "print(len(train_label_list),len(valid_label_list))"
   ]
  },
  {
   "cell_type": "code",
   "execution_count": null,
   "metadata": {},
   "outputs": [],
   "source": [
    "train_label_list = set(train_label_list)\n",
    "valid_label_list = set(valid_label_list)\n",
    "print(len(train_label_list),len(valid_label_list))"
   ]
  },
  {
   "cell_type": "code",
   "execution_count": null,
   "metadata": {},
   "outputs": [],
   "source": [
    "file_list='./ID_List.txt'\n",
    "\n",
    "train_images_path = []\n",
    "train_labels = []\n",
    "\n",
    "valid_images_path = []\n",
    "valid_labels = []\n",
    "\n",
    "with open(file_list) as f:\n",
    "    files = f.read().splitlines()\n",
    "    \n",
    "print(len(files)) # 3917311\n",
    "print(files[-1]) # 86875 train/m.0_nk/85-FaceId-0_align.jpg\n",
    "    \n",
    "for file in tqdm(files):\n",
    "    label, image_path = file.split()\n",
    "    label = int(label)\n",
    "    \n",
    "    if label in train_label_list:\n",
    "        train_images_path.append(image_path)\n",
    "        train_labels.append(label)\n",
    "        \n",
    "    elif label in valid_label_list:\n",
    "        valid_images_path.append(image_path)\n",
    "        valid_labels.append(label)"
   ]
  },
  {
   "cell_type": "code",
   "execution_count": null,
   "metadata": {},
   "outputs": [],
   "source": [
    "print(len(train_images_path),len(train_labels))\n",
    "print(len(valid_images_path),len(valid_labels))"
   ]
  },
  {
   "cell_type": "code",
   "execution_count": null,
   "metadata": {},
   "outputs": [],
   "source": [
    "print(train_images_path[:10])\n",
    "print(train_labels[:10])"
   ]
  },
  {
   "cell_type": "code",
   "execution_count": null,
   "metadata": {},
   "outputs": [],
   "source": [
    "class TrainDataset(Dataset):\n",
    "    def __init__(self,images_path,labels,transform):\n",
    "        self.images_path = images_path\n",
    "        self.labels = labels\n",
    "        self.transform = transform\n",
    "        \n",
    "    def __len__(self):\n",
    "        return len(self.images_path)\n",
    "    \n",
    "    def __getitem__(self,idx):\n",
    "        img_path = self.images_path[idx]\n",
    "        label = self.labels[idx]\n",
    "        \n",
    "        img = cv2.imread(img_path)\n",
    "        img = cv2.cvtColor(img,cv2.COLOR_BGR2RGB)\n",
    "        \n",
    "        if self.transform is not None:\n",
    "            img = self.transform(image=img)['image']\n",
    "            \n",
    "        return img, label"
   ]
  },
  {
   "cell_type": "code",
   "execution_count": null,
   "metadata": {},
   "outputs": [],
   "source": [
    "class ValidDataset(Dataset):\n",
    "    def __init__(self,images_path,labels,transform):\n",
    "        self.images_path = images_path\n",
    "        self.labels = labels\n",
    "        self.transform = transform\n",
    "        \n",
    "    def __len__(self):\n",
    "        return len(self.images_path)\n",
    "    \n",
    "    def __getitem__(self,idx):\n",
    "        img_path = self.images_path[idx]\n",
    "        # train/m.0_nk/85-FaceId-0_align.jpg\n",
    "        # m.0_nk에 있는 데이터중 임의의 이미지 한장선택 (자기자신제외)\n",
    "        _,folder,file_name = img_path.split('/')\n",
    "        candidate_dir = os.path.join('train',folder)\n",
    "        file_list = os.listdir(candidate_dir)\n",
    "        \n",
    "        second_file_name = file_name\n",
    "        \n",
    "        while second_file_name == file_name:\n",
    "            second_file_name = random.choice(file_list)\n",
    "        second_img_path = os.path.join('train',folder,second_file_name)\n",
    "        \n",
    "        label = self.labels[idx]\n",
    "        img = cv2.imread(img_path)\n",
    "        img = cv2.cvtColor(img,cv2.COLOR_BGR2RGB)\n",
    "        \n",
    "        second_img = cv2.imread(second_img_path)\n",
    "        second_img = cv2.cvtColor(second_img,cv2.COLOR_BGR2RGB)\n",
    "        \n",
    "        if self.transform is not None:\n",
    "            img = self.transform(image=img)['image']\n",
    "            second_img = self.transform(image=second_img)['image']\n",
    "        return img, second_img, label"
   ]
  },
  {
   "cell_type": "code",
   "execution_count": null,
   "metadata": {},
   "outputs": [],
   "source": [
    "# dataset  mean std calculate\n",
    "def compute_mean_std(dataset):\n",
    "    means = []\n",
    "    stds = []\n",
    "    for i in tqdm(range(len(dataset))): # data -> (img,label) 형태\n",
    "        img = dataset[i][0]\n",
    "        mean = np.mean(img,axis=(0,1))\n",
    "        std = np.std(img,axis=(0,1))\n",
    "        means.append(mean)\n",
    "        stds.append(std)\n",
    "    means = np.mean(means,axis=0)/255.0\n",
    "    stds = np.mean(stds,axis=0)/255.0\n",
    "    \n",
    "    return means,stds"
   ]
  },
  {
   "cell_type": "code",
   "execution_count": null,
   "metadata": {},
   "outputs": [],
   "source": [
    "# # no transform mean, std calculate\n",
    "# dataset = TrainDataset(train_images_path,train_labels,None)\n",
    "# print(compute_mean_std(dataset))\n",
    "# # # # (array([0.60122519, 0.46037095, 0.39414122]), array([0.20757387, 0.18196426, 0.17056237]))"
   ]
  },
  {
   "cell_type": "code",
   "execution_count": null,
   "metadata": {},
   "outputs": [],
   "source": [
    "# Albumentations 변환 함수 생성\n",
    "train_transform = A.Compose([\n",
    "    A.HorizontalFlip(p=0.5)\n",
    "    A.Rotate(limit=(-20,20), interpolation=1, border_mode=0, p=0.5),\n",
    "    A.Normalize(mean=[0.485, 0.456, 0.406], std=[0.229, 0.224, 0.225], max_pixel_value=255, p=1.0),\n",
    "    ToTensorV2(),\n",
    "])\n",
    "\n",
    "valid_transform = A.Compose([\n",
    "    A.Normalize(mean=[0.485, 0.456, 0.406], std=[0.229, 0.224, 0.225], max_pixel_value=255, p=1.0),\n",
    "    ToTensorV2(),\n",
    "])"
   ]
  },
  {
   "cell_type": "code",
   "execution_count": null,
   "metadata": {},
   "outputs": [],
   "source": [
    "train_dataset = TrainDataset(train_images_path, train_labels,transform=train_transform)\n",
    "train_dataloader = DataLoader(train_dataset, batch_size=1024,num_workers=8, shuffle=True)\n",
    "\n",
    "valid_dataset = ValidDataset(valid_images_path, valid_labels,transform=valid_transform)\n",
    "valid_dataloader = DataLoader(valid_dataset, batch_size=1024,num_workers=8, shuffle=False)"
   ]
  },
  {
   "cell_type": "code",
   "execution_count": null,
   "metadata": {},
   "outputs": [],
   "source": [
    "print(len(valid_dataset),len(valid_dataloader))"
   ]
  },
  {
   "cell_type": "code",
   "execution_count": null,
   "metadata": {},
   "outputs": [],
   "source": [
    "# delete normalize\n",
    "class MyInceptionResnetV1(InceptionResnetV1):\n",
    "    def __init__(self, *args, **kwargs):\n",
    "        super(MyInceptionResnetV1, self).__init__(*args, **kwargs)\n",
    "\n",
    "    def forward(self, x):\n",
    "        x = self.conv2d_1a(x)\n",
    "        x = self.conv2d_2a(x)\n",
    "        x = self.conv2d_2b(x)\n",
    "        x = self.maxpool_3a(x)\n",
    "        x = self.conv2d_3b(x)\n",
    "        x = self.conv2d_4a(x)\n",
    "        x = self.conv2d_4b(x)\n",
    "        x = self.repeat_1(x)\n",
    "        x = self.mixed_6a(x)\n",
    "        x = self.repeat_2(x)\n",
    "        x = self.mixed_7a(x)\n",
    "        x = self.repeat_3(x)\n",
    "        x = self.block8(x)\n",
    "        x = self.avgpool_1a(x)\n",
    "        x = self.dropout(x)\n",
    "        x = self.last_linear(x.view(x.shape[0], -1))\n",
    "        x = self.last_bn(x)\n",
    "        if self.classify:\n",
    "            x = self.logits(x)\n",
    "        # else:  # 이 부분에서 정규화를 제거\n",
    "            # x = F.normalize(x, p=2, dim=1)\n",
    "        return x"
   ]
  },
  {
   "cell_type": "code",
   "execution_count": null,
   "metadata": {},
   "outputs": [],
   "source": [
    "# loss 선언 \n",
    "class SphereFaceLoss(nn.Module):\n",
    "    def __init__(self, in_features, out_features, m=4):\n",
    "        super(SphereFaceLoss, self).__init__()\n",
    "        self.in_features = in_features\n",
    "        self.out_features = out_features\n",
    "        self.m = m\n",
    "        self.base = 1000.0\n",
    "        self.gamma = 0.0001\n",
    "        self.power = 2\n",
    "        self.lambda_min = 5.0\n",
    "        self.iter = 0\n",
    "        self.weight = nn.Parameter(torch.FloatTensor(out_features, in_features))\n",
    "        nn.init.xavier_uniform_(self.weight)\n",
    "\n",
    "        # 체비쇼프 다항식\n",
    "        self.mlambda = [\n",
    "            lambda x: x ** 0,\n",
    "            lambda x: x ** 1,\n",
    "            lambda x: 2 * x ** 2 - 1,\n",
    "            lambda x: 4 * x ** 3 - 3 * x,\n",
    "            lambda x: 8 * x ** 4 - 8 * x ** 2 + 1,\n",
    "            lambda x: 16 * x ** 5 - 20 * x ** 3 + 5 * x\n",
    "        ]\n",
    "\n",
    "    def forward(self, x, label):\n",
    "        # lambda = max(lambda_min,base*(1+gamma*iteration)^(-power))\n",
    "        self.iter += 1\n",
    "        self.cur_lambda = max(self.lambda_min, self.base * (1 + self.gamma * self.iter) ** (-1 * self.power))\n",
    "        \n",
    "        # x : (B,in_channer) , label : (B,)\n",
    "        # --------------------------- cos(theta) & phi(theta) ---------------------------\n",
    "        cos_theta = F.linear(F.normalize(x), F.normalize(self.weight)) # self.weight -> (out,in) -> in에 normalize 적용됨.\n",
    "        cos_theta = cos_theta.clamp(-1, 1) # (B,out_channel)\n",
    "        cos_m_theta = self.mlambda[self.m](cos_theta) # (B,out_channel) # 함수 전체 element에 적용됨\n",
    "        theta = cos_theta.data.acos() # (B,out_channel)\n",
    "        k = ((self.m * theta) / math.pi).floor() # (B,out_channel)\n",
    "        phi_theta = ((-1.0) ** k) * cos_m_theta - 2 * k # (B,out_channel)\n",
    "        phi_theta_ = (self.cur_lambda * cos_theta + phi_theta) / (1 + self.cur_lambda)\n",
    "        NormOfFeature = torch.norm(x, 2, 1) # (B,)\n",
    "\n",
    "        # --------------------------- convert label to one-hot ---------------------------\n",
    "        one_hot = torch.zeros_like(cos_theta) # (B,out_channel)\n",
    "        one_hot.scatter_(1, label.view(-1,1), 1) # (B,out_channel) # out_channel = num_classes\n",
    "\n",
    "        # --------------------------- Calculate output ---------------------------\n",
    "        # output = one_hot * phi_theta + (1.0 - one_hot) * cos_theta # (B,out_channel)\n",
    "\n",
    "        output = one_hot * phi_theta_ + (1 - one_hot) * cos_theta  # (B,out_channel)        \n",
    "        output *= NormOfFeature.view(-1, 1) # (B,out_channel)\n",
    "        \n",
    "        return output"
   ]
  },
  {
   "cell_type": "code",
   "execution_count": null,
   "metadata": {},
   "outputs": [],
   "source": [
    "model = MyInceptionResnetV1(classify=False, pretrained='vggface2').to(device)\n",
    "margin = SphereFaceLoss(in_features=512, out_features=69500).to(device)\n",
    "criterion = nn.CrossEntropyLoss()"
   ]
  },
  {
   "cell_type": "code",
   "execution_count": null,
   "metadata": {},
   "outputs": [],
   "source": [
    "optimizer = optim.SGD([{'params': model.parameters()}, {'params': margin.parameters()}],lr=0.01,weight_decay= 5e-4)\n",
    "scheduler = CosineLRScheduler(optimizer, t_initial=10, cycle_decay=0.7, lr_min=1e-5)"
   ]
  },
  {
   "cell_type": "code",
   "execution_count": null,
   "metadata": {},
   "outputs": [],
   "source": [
    "for epoch in range(10):\n",
    "    model.train()\n",
    "    margin.train()\n",
    "    train_loss = 0.0\n",
    "    \n",
    "    for batch_idx, (images,labels) in enumerate(tqdm(train_dataloader)):\n",
    "        images = images.to(device)\n",
    "        labels = labels.to(device)\n",
    "        \n",
    "        optimizer.zero_grad()\n",
    "        \n",
    "        outputs = model(images) # (B,512)\n",
    "        outputs = margin(outputs,labels)\n",
    "        loss = criterion(outputs,labels)\n",
    "        loss.backward()\n",
    "        \n",
    "        train_loss += loss.item() *len(images)\n",
    "        \n",
    "        if batch_idx % 100 == 0:\n",
    "            print(f'Epoch : {epoch+1} | Iter : ({batch_idx+1}/{len(train_dataloader)}) | train_loss : {train_loss / ((batch_idx + 1) * len(images))}, now_lr = {get_lr(optimizer)}')\n",
    "        \n",
    "        optimizer.step()\n",
    "        scheduler.step(epoch + batch_idx/len(train_dataloader))\n",
    "        \n",
    "    model.eval()\n",
    "    valid_collect_count = 0.0\n",
    "    best_accuracy = 0.0\n",
    "    \n",
    "    with torch.no_grad():\n",
    "        for images,second_images,labels in tqdm(valid_dataloader):\n",
    "            images = images.to(device)\n",
    "            second_images = second_images.to(device)\n",
    "            \n",
    "            outputs = model(images) # (Batch,512)\n",
    "            outputs = F.normalize(outputs,p=2,dim=1)\n",
    "            second_outputs = model(second_images)\n",
    "            second_outputs = F.normalize(second_outputs,p=2,dim=1)\n",
    "            \n",
    "            cos_sim = F.cosine_similarity(outputs, second_outputs) # (Batch,)\n",
    "            cos_true = torch.where(cos_sim>=0.5,True,False)\n",
    "            \n",
    "            valid_collect_count+=torch.sum(cos_true)\n",
    "        \n",
    "        valid_accuracy = valid_collect_count / len(valid_dataset)\n",
    "        if valid_accuracy>best_accuracy:\n",
    "            best_accuracy = valid_accuracy\n",
    "            path = f\"./pth_file/InceptionResnetV1_sphere_best_model.pt\"\n",
    "            path_margin = f\"./pth_file/InceptionResnetV1_sphere_best_margin.pt\"\n",
    "            torch.save(model.state_dict(), path)\n",
    "            torch.save(margin.state_dict(), path_margin)\n",
    "            \n",
    "        \n",
    "    print(f'Epoch : {epoch+1} | train_loss = {train_loss / len(train_dataset)} | valid_accuracy = {valid_accuracy}')"
   ]
  },
  {
   "cell_type": "code",
   "execution_count": null,
   "metadata": {},
   "outputs": [],
   "source": [
    "class TestDataset(Dataset):\n",
    "    def __init__(self,transform):\n",
    "        self.transform = transform\n",
    "        \n",
    "    def __len__(self):\n",
    "        return 6000\n",
    "    \n",
    "    def __getitem__(self,idx):\n",
    "        left_img_path = os.path.join('test',f'left_face_{idx}.jpg')\n",
    "        right_img_path = os.path.join('test',f'right_face_{idx}.jpg')\n",
    "        \n",
    "        left_img = cv2.imread(left_img_path)\n",
    "        left_img = cv2.cvtColor(left_img,cv2.COLOR_BGR2RGB)\n",
    "\n",
    "        right_img = cv2.imread(right_img_path)\n",
    "        right_img = cv2.cvtColor(right_img,cv2.COLOR_BGR2RGB)\n",
    "        \n",
    "        if self.transform is not None:\n",
    "            left_img = self.transform(image=left_img)['image']\n",
    "            right_img = self.transform(image=right_img)['image']\n",
    "            \n",
    "        return left_img, right_img\n"
   ]
  },
  {
   "cell_type": "code",
   "execution_count": null,
   "metadata": {},
   "outputs": [],
   "source": [
    "# dataset  mean std calculate\n",
    "def compute_test_mean_std(dataset):\n",
    "    means = []\n",
    "    stds = []\n",
    "    for i in tqdm(range(len(dataset))): # data -> (img1,img2) 형태\n",
    "        img_1 = dataset[i][0]\n",
    "        mean_1 = np.mean(img_1,axis=(0,1))\n",
    "        std_1 = np.std(img_1,axis=(0,1))\n",
    "        means.append(mean_1)\n",
    "        stds.append(std_1)\n",
    "        \n",
    "        img_2 = dataset[i][1]\n",
    "        mean_2 = np.mean(img_2,axis=(0,1))\n",
    "        std_2 = np.std(img_2,axis=(0,1))\n",
    "        means.append(mean_2)\n",
    "        stds.append(std_2)\n",
    "    means = np.mean(means,axis=0)/255.0\n",
    "    stds = np.mean(stds,axis=0)/255.0\n",
    "    \n",
    "    return means,stds"
   ]
  },
  {
   "cell_type": "code",
   "execution_count": null,
   "metadata": {},
   "outputs": [],
   "source": [
    "# # no transform mean, std calculate\n",
    "# test_dataset = TestDataset(transform=None)\n",
    "# print(compute_test_mean_std(test_dataset))\n",
    "# # (array([0.60026345, 0.45291217, 0.36765159]), array([0.19051669, 0.16606976, 0.15597025]))"
   ]
  },
  {
   "cell_type": "code",
   "execution_count": null,
   "metadata": {},
   "outputs": [],
   "source": [
    "test_transform = A.Compose([\n",
    "    A.Normalize(mean=[0.60026345, 0.45291217, 0.36765159], std=[0.19051669, 0.16606976, 0.15597025], max_pixel_value=255, p=1.0),\n",
    "    ToTensorV2()\n",
    "])"
   ]
  },
  {
   "cell_type": "code",
   "execution_count": null,
   "metadata": {},
   "outputs": [],
   "source": [
    "test_dataset = TestDataset(transform=test_transform)\n",
    "test_dataloader = DataLoader(test_dataset, batch_size=1024,num_workers=8, shuffle=False)"
   ]
  },
  {
   "cell_type": "code",
   "execution_count": null,
   "metadata": {},
   "outputs": [],
   "source": [
    "model.eval()\n",
    "\n",
    "answer_list = []\n",
    "\n",
    "with torch.no_grad():\n",
    "    for images,second_images in tqdm(test_dataloader):\n",
    "        images = images.to(device)\n",
    "        second_images = second_images.to(device)\n",
    "                \n",
    "        outputs = model(images) # (Batch,512)\n",
    "        second_outputs = model(second_images)\n",
    "        cos_sim = F.cosine_similarity(outputs, second_outputs) # (Batch,)\n",
    "        print(cos_sim)\n",
    "        answer_list.append(cos_sim)\n",
    "    answer_list = torch.cat(answer_list,dim=0)\n",
    "print(answer_list)"
   ]
  },
  {
   "cell_type": "code",
   "execution_count": null,
   "metadata": {},
   "outputs": [],
   "source": [
    "print(answer_list[:])"
   ]
  },
  {
   "cell_type": "code",
   "execution_count": null,
   "metadata": {},
   "outputs": [],
   "source": [
    "submission = pd.read_csv('./submission/sample_submission.csv')\n",
    "submission['answer'] = answer_list.tolist()"
   ]
  },
  {
   "cell_type": "code",
   "execution_count": null,
   "metadata": {},
   "outputs": [],
   "source": [
    "submission.to_csv('./submission/InceptionResnetV1_sphere_submission.csv',index=False)"
   ]
  }
 ],
 "metadata": {
  "kernelspec": {
   "display_name": "Python 3",
   "language": "python",
   "name": "python3"
  },
  "language_info": {
   "codemirror_mode": {
    "name": "ipython",
    "version": 3
   },
   "file_extension": ".py",
   "mimetype": "text/x-python",
   "name": "python",
   "nbconvert_exporter": "python",
   "pygments_lexer": "ipython3",
   "version": "3.8.10"
  }
 },
 "nbformat": 4,
 "nbformat_minor": 4
}

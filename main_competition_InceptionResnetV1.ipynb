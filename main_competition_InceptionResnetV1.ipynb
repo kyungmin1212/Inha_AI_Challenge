{
 "cells": [
  {
   "cell_type": "code",
   "execution_count": null,
   "metadata": {},
   "outputs": [],
   "source": [
    "import os\n",
    "import random\n",
    "import glob \n",
    "import cv2\n",
    "import pandas as pd\n",
    "import numpy as np\n",
    "import math\n",
    "from tqdm.notebook import tqdm\n",
    "\n",
    "import torch\n",
    "import torch.nn as nn\n",
    "import torch.nn.functional as F\n",
    "import torch.optim as optim\n",
    "from torch.utils.data import DataLoader, Dataset\n",
    "\n",
    "import timm\n",
    "\n",
    "import albumentations as A\n",
    "from albumentations.pytorch.transforms import ToTensorV2\n",
    "\n",
    "from facenet_pytorch import MTCNN, InceptionResnetV1"
   ]
  },
  {
   "cell_type": "code",
   "execution_count": null,
   "metadata": {},
   "outputs": [],
   "source": [
    "def set_seed(seed):\n",
    "    random.seed(seed)\n",
    "    np.random.seed(seed)\n",
    "    torch.manual_seed(seed)\n",
    "    torch.cuda.manual_seed(seed)\n",
    "    torch.cuda.manual_seed_all(seed)\n",
    "    os.environ['PYTHONHASHSEED'] = str(seed)\n",
    "\n",
    "    # CuDNN 결정론적 옵션 설정\n",
    "    torch.backends.cudnn.deterministic = True\n",
    "    torch.backends.cudnn.benchmark = False\n",
    "\n",
    "# 원하는 시드 값 설정\n",
    "seed = 42\n",
    "set_seed(seed)\n",
    "device = torch.device(\"cuda\" if torch.cuda.is_available() else \"cpu\") # 디바이스 설정\n",
    "print(device)"
   ]
  },
  {
   "cell_type": "code",
   "execution_count": null,
   "metadata": {},
   "outputs": [],
   "source": [
    "people_list = os.listdir('./real_test')\n",
    "print(len(people_list))\n",
    "print(people_list[:5])"
   ]
  },
  {
   "cell_type": "code",
   "execution_count": null,
   "metadata": {},
   "outputs": [],
   "source": [
    "left_image_paths = glob.glob(os.path.join('crop_real_test','pair*','L.jpg'))\n",
    "right_image_paths = glob.glob(os.path.join('crop_real_test','pair*','R.jpg'))"
   ]
  },
  {
   "cell_type": "code",
   "execution_count": null,
   "metadata": {},
   "outputs": [],
   "source": [
    "print(len(left_image_paths))\n",
    "print(left_image_paths[:10])\n",
    "print(len(right_image_paths))\n",
    "print(right_image_paths[:10])"
   ]
  },
  {
   "cell_type": "code",
   "execution_count": null,
   "metadata": {},
   "outputs": [],
   "source": [
    "class TestDataset(Dataset):\n",
    "    def __init__(self,transform):\n",
    "        self.transform = transform\n",
    "        \n",
    "    def __len__(self):\n",
    "        return 75200\n",
    "\n",
    "    def __getitem__(self,idx):\n",
    "        left_img_path = os.path.join('crop_real_test',f'pair{idx}','L.jpg')\n",
    "        right_img_path = os.path.join('crop_real_test',f'pair{idx}','R.jpg')\n",
    "        \n",
    "        left_img = cv2.imread(left_img_path)\n",
    "        left_img = cv2.cvtColor(left_img,cv2.COLOR_BGR2RGB)\n",
    "\n",
    "        right_img = cv2.imread(right_img_path)\n",
    "        right_img = cv2.cvtColor(right_img,cv2.COLOR_BGR2RGB)\n",
    "        \n",
    "        if self.transform is not None:\n",
    "            left_img = self.transform(image=left_img)['image']\n",
    "            right_img = self.transform(image=right_img)['image']\n",
    "            \n",
    "        return left_img, right_img"
   ]
  },
  {
   "cell_type": "code",
   "execution_count": null,
   "metadata": {},
   "outputs": [],
   "source": [
    "transform = A.Compose([\n",
    "    A.Resize(112,112, p=1.0),\n",
    "    A.Normalize(mean=[0.485, 0.456, 0.406],std=[0.229, 0.224, 0.225], max_pixel_value=255, p=1.0),\n",
    "    ToTensorV2(),\n",
    "])"
   ]
  },
  {
   "cell_type": "code",
   "execution_count": null,
   "metadata": {},
   "outputs": [],
   "source": [
    "test_dataset = TestDataset(transform=transform)\n",
    "test_dataloader = DataLoader(test_dataset, batch_size=512,num_workers=8, shuffle=False)"
   ]
  },
  {
   "cell_type": "code",
   "execution_count": null,
   "metadata": {},
   "outputs": [],
   "source": [
    "print(len(test_dataset),len(test_dataloader))"
   ]
  },
  {
   "cell_type": "code",
   "execution_count": null,
   "metadata": {},
   "outputs": [],
   "source": [
    "model = InceptionResnetV1(classify=False, pretrained='vggface2').to(device)\n",
    "# model_file = torch.load(\"./pth_file/InceptionResnetV1_sphere_best_model.pt\")\n",
    "# model_file = torch.load(\"./pth_file/InceptionResnetV1_arc_best_model.pt\")\n",
    "model_file = torch.load(\"./pth_file/InceptionResnetV1_cos_best_model.pt\")\n",
    "model.load_state_dict(model_file)"
   ]
  },
  {
   "cell_type": "code",
   "execution_count": null,
   "metadata": {},
   "outputs": [],
   "source": [
    "model.eval()\n",
    "\n",
    "answer_list = []\n",
    "\n",
    "with torch.no_grad():\n",
    "    for images,second_images in tqdm(test_dataloader):\n",
    "        images = images.to(device)\n",
    "        second_images = second_images.to(device)\n",
    "                \n",
    "        outputs = model(images) # (Batch,512)\n",
    "        second_outputs = model(second_images)\n",
    "        cos_sim = F.cosine_similarity(outputs, second_outputs) # (Batch,)\n",
    "        answer_list.append(cos_sim)\n",
    "    answer_list = torch.cat(answer_list,dim=0)\n",
    "print(answer_list)"
   ]
  },
  {
   "cell_type": "code",
   "execution_count": null,
   "metadata": {},
   "outputs": [],
   "source": [
    "submission = pd.read_csv(\"./submission/main_sample_submission.csv\")\n",
    "\n",
    "print(submission)"
   ]
  },
  {
   "cell_type": "code",
   "execution_count": null,
   "metadata": {},
   "outputs": [],
   "source": [
    "# 원본 데이터프레임을 복사\n",
    "submission_copy = submission.copy()\n",
    "\n",
    "# 'path' 열에서 숫자를 추출하고 새로운 열 'pair_number'로 추가\n",
    "submission_copy['pair_number'] = submission_copy['path'].apply(lambda x: int(x.split('/')[0][4:]))\n",
    "\n",
    "# 'pair_number' 열을 기준으로 데이터프레임 정렬\n",
    "submission_copy = submission_copy.sort_values(by='pair_number')\n",
    "\n",
    "# 정렬된 데이터프레임에서 필요한 열만 선택\n",
    "submission = submission_copy[['path', 'answer']]\n",
    "print(submission)"
   ]
  },
  {
   "cell_type": "code",
   "execution_count": null,
   "metadata": {},
   "outputs": [],
   "source": [
    "submission = submission.reset_index(drop=True)\n",
    "print(submission)"
   ]
  },
  {
   "cell_type": "code",
   "execution_count": null,
   "metadata": {},
   "outputs": [],
   "source": [
    "submission['answer'] = answer_list.tolist()\n",
    "\n",
    "submission.to_csv('./submission/main_efficient_bo_cos_submission.csv', index=False)"
   ]
  },
  {
   "cell_type": "code",
   "execution_count": null,
   "metadata": {},
   "outputs": [],
   "source": []
  }
 ],
 "metadata": {
  "kernelspec": {
   "display_name": "Python 3",
   "language": "python",
   "name": "python3"
  },
  "language_info": {
   "codemirror_mode": {
    "name": "ipython",
    "version": 3
   },
   "file_extension": ".py",
   "mimetype": "text/x-python",
   "name": "python",
   "nbconvert_exporter": "python",
   "pygments_lexer": "ipython3",
   "version": "3.8.10"
  }
 },
 "nbformat": 4,
 "nbformat_minor": 4
}
